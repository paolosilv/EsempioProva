{
 "cells": [
  {
   "cell_type": "code",
   "execution_count": 79,
   "metadata": {},
   "outputs": [],
   "source": [
    "import numpy as np\n",
    "np.random.seed(42)\n",
    "import pandas as pd\n",
    "from sklearn.model_selection import train_test_split\n",
    "from sklearn import datasets\n",
    "import matplotlib.pyplot as plt"
   ]
  },
  {
   "cell_type": "markdown",
   "metadata": {},
   "source": [
    "Dopo aver importato le principali librerie, eseguo il retrieve dei dati di training e testing"
   ]
  },
  {
   "cell_type": "code",
   "execution_count": 80,
   "metadata": {},
   "outputs": [],
   "source": [
    "X_tr = pd.read_csv(\"train.csv\")\n",
    "X_tes = pd.read_csv(\"test.csv\")"
   ]
  },
  {
   "cell_type": "markdown",
   "metadata": {},
   "source": [
    "Scelgo le features più adatte"
   ]
  },
  {
   "cell_type": "code",
   "execution_count": 81,
   "metadata": {},
   "outputs": [],
   "source": [
    "features = ['PaymentMethod', 'Dependents', 'PhoneService','PaperlessBilling', 'MultipleLines', 'InternetService', \n",
    "            'OnlineSecurity', 'OnlineBackup', 'DeviceProtection', 'TechSupport', 'StreamingTV', 'StreamingMovies', 'Contract']"
   ]
  },
  {
   "cell_type": "markdown",
   "metadata": {},
   "source": [
    "Separo in due ognuno dei due file"
   ]
  },
  {
   "cell_type": "code",
   "execution_count": 82,
   "metadata": {},
   "outputs": [],
   "source": [
    "X_train = X_tr[(features)]\n",
    "y_train = X_tr['Churn']\n",
    "\n",
    "X_test = X_tes[(features)]\n",
    "y_test = X_tes['Churn']\n"
   ]
  },
  {
   "cell_type": "markdown",
   "metadata": {},
   "source": [
    "Trasformo in array OneHot (formato piu conveniente) l'output sia di Training che di Testing"
   ]
  },
  {
   "cell_type": "code",
   "execution_count": 83,
   "metadata": {},
   "outputs": [],
   "source": [
    "y_train = pd.get_dummies(pd.Series(data=y_train)).to_numpy().tolist()\n",
    "\n",
    "y_test = pd.get_dummies(pd.Series(data=y_test)).to_numpy().tolist()"
   ]
  },
  {
   "cell_type": "markdown",
   "metadata": {},
   "source": [
    "Importo Tensorflow che mi sarà utile successivamente e verifico se i due insiemi che tratto hanno colonne diverse, prima di fare Label Encoding, sennò potrei riscontrare dei problemi"
   ]
  },
  {
   "cell_type": "code",
   "execution_count": 84,
   "metadata": {},
   "outputs": [
    {
     "name": "stdout",
     "output_type": "stream",
     "text": [
      "Colonne categoriche a cui verra applicato label encoding:\n",
      "\n",
      " ['PaymentMethod', 'Dependents', 'PhoneService', 'PaperlessBilling', 'MultipleLines', 'InternetService', 'OnlineSecurity', 'OnlineBackup', 'DeviceProtection', 'TechSupport', 'StreamingTV', 'StreamingMovies', 'Contract']\n",
      "\n",
      "Colonne categoriche che verranno cancellate dal dataset:\n",
      "\n",
      " []\n"
     ]
    }
   ],
   "source": [
    "import tensorflow as tf\n",
    "\n",
    "# Tutte le colonne categoriche\n",
    "object_cols = [col for col in X_train.columns if X_train[col].values.dtype == \"object\"]\n",
    "\n",
    "# Colonne che possono essere tranquillamente label encoded\n",
    "good_label_cols = [col for col in object_cols if \n",
    "                   set(X_test[col]).issubset(set(X_train[col]))]\n",
    "        \n",
    "# Colonne problematiche che verranno droppate dal dataset\n",
    "bad_label_cols = list(set(object_cols)-set(good_label_cols))\n",
    "        \n",
    "print('Colonne categoriche a cui verra applicato label encoding:\\n\\n', good_label_cols)\n",
    "print('\\nColonne categoriche che verranno cancellate dal dataset:\\n\\n', bad_label_cols)\n"
   ]
  },
  {
   "cell_type": "markdown",
   "metadata": {},
   "source": [
    "--Facciamo Label Encoding--"
   ]
  },
  {
   "cell_type": "code",
   "execution_count": 85,
   "metadata": {},
   "outputs": [
    {
     "name": "stdout",
     "output_type": "stream",
     "text": [
      "(4225, 13)\n"
     ]
    }
   ],
   "source": [
    "from sklearn.preprocessing import LabelEncoder\n",
    "\n",
    "# Cancelliamo le colonne categoriche che non useremo (nel nostro esempio non cancella niente perchè le abbiamo tutte buone)\n",
    "label_X_train = X_train.drop(bad_label_cols, axis=1)\n",
    "label_X_test = X_test.drop(bad_label_cols, axis=1)\n",
    "\n",
    "print(X_train.shape)\n",
    "\n",
    "#Label Encoding\n",
    "\n",
    "label_encoder = LabelEncoder()\n",
    "for col in set(good_label_cols):\n",
    "    label_X_train[col] = label_encoder.fit_transform(X_train[col])\n",
    "    label_X_test[col] = label_encoder.fit_transform(X_test[col])"
   ]
  },
  {
   "cell_type": "markdown",
   "metadata": {},
   "source": [
    "Ora non abbiamo piu categorie ma numeri cosi da poter lavorare tranquillamente.\n",
    "Vediamo per chiarezza, per ogni colonna, quanti valori diversi vengono assunti."
   ]
  },
  {
   "cell_type": "code",
   "execution_count": 86,
   "metadata": {},
   "outputs": [
    {
     "data": {
      "text/plain": [
       "[('Dependents', 2),\n",
       " ('PhoneService', 2),\n",
       " ('PaperlessBilling', 2),\n",
       " ('MultipleLines', 3),\n",
       " ('InternetService', 3),\n",
       " ('OnlineSecurity', 3),\n",
       " ('OnlineBackup', 3),\n",
       " ('DeviceProtection', 3),\n",
       " ('TechSupport', 3),\n",
       " ('StreamingTV', 3),\n",
       " ('StreamingMovies', 3),\n",
       " ('Contract', 3),\n",
       " ('PaymentMethod', 4)]"
      ]
     },
     "execution_count": 86,
     "metadata": {},
     "output_type": "execute_result"
    }
   ],
   "source": [
    "object_nunique = list(map(lambda col: X_train[col].nunique(), object_cols))\n",
    "d = dict(zip(object_cols, object_nunique))\n",
    "\n",
    "#Stampa il numero di valori per colonna, in ordine crescente\n",
    "sorted(d.items(), key=lambda x: x[1])"
   ]
  },
  {
   "cell_type": "markdown",
   "metadata": {},
   "source": [
    "Possiamo notare che la variabile \"PhoneService\" ha CARDINALITA' 2, cioè assume due valori diversi!\n",
    "\n",
    "Abbiamo usato il Label Encoder che è il secondo approccio che si usa per la Categorizzazione, è uno dei piu efficienti insieme al OneHot Encoder che qui però non abbiamo utilizzato perchè piu complicato.\n",
    "\n",
    "Ora che abbiamo decategorizzato i dati possiamo procedere Addestrando la nostra Rete!\n",
    "\n",
    "Convertiamo i dati di training in float:"
   ]
  },
  {
   "cell_type": "code",
   "execution_count": 87,
   "metadata": {},
   "outputs": [],
   "source": [
    "X_train = tf.convert_to_tensor(label_X_train, np.float32)\n",
    "y_train = tf.convert_to_tensor(y_train, np.float32)"
   ]
  },
  {
   "cell_type": "markdown",
   "metadata": {},
   "source": [
    "Creiamo il nostro modello"
   ]
  },
  {
   "cell_type": "code",
   "execution_count": 96,
   "metadata": {},
   "outputs": [],
   "source": [
    "from tensorflow import keras\n",
    "\n",
    "model = keras.Sequential()\n",
    "#model.add(tf.keras.layers.BatchNormalization())\n",
    "model.add(tf.keras.layers.Dense(500, activation='sigmoid' ))\n",
    "model.add(tf.keras.layers.Dropout(0.2))\n",
    "model.add(tf.keras.layers.BatchNormalization())\n",
    "model.add(tf.keras.layers.Dense(2, activation='sigmoid' ))"
   ]
  },
  {
   "cell_type": "markdown",
   "metadata": {},
   "source": [
    "Compilo il modello aggiungendo loss, optimizer e metriche"
   ]
  },
  {
   "cell_type": "code",
   "execution_count": 97,
   "metadata": {},
   "outputs": [],
   "source": [
    "model.compile(loss='mae', \n",
    "              optimizer='adam', \n",
    "              metrics=['accuracy'])"
   ]
  },
  {
   "cell_type": "markdown",
   "metadata": {},
   "source": [
    "Inserisco la storia del modello che verifica come avviene il fitting e l'accuratezza dello stesso"
   ]
  },
  {
   "cell_type": "code",
   "execution_count": 98,
   "metadata": {},
   "outputs": [
    {
     "name": "stdout",
     "output_type": "stream",
     "text": [
      "Epoch 1/100\n",
      "133/133 [==============================] - 2s 4ms/step - loss: 0.3446 - accuracy: 0.6978\n",
      "Epoch 2/100\n",
      "133/133 [==============================] - 1s 4ms/step - loss: 0.2649 - accuracy: 0.7536\n",
      "Epoch 3/100\n",
      "133/133 [==============================] - 1s 4ms/step - loss: 0.2501 - accuracy: 0.7602\n",
      "Epoch 4/100\n",
      "133/133 [==============================] - 1s 4ms/step - loss: 0.2419 - accuracy: 0.7666\n",
      "Epoch 5/100\n",
      "133/133 [==============================] - 1s 4ms/step - loss: 0.2395 - accuracy: 0.7652\n",
      "Epoch 6/100\n",
      "133/133 [==============================] - 1s 4ms/step - loss: 0.2403 - accuracy: 0.7657\n",
      "Epoch 7/100\n",
      "133/133 [==============================] - 1s 4ms/step - loss: 0.2393 - accuracy: 0.7652\n",
      "Epoch 8/100\n",
      "133/133 [==============================] - 1s 4ms/step - loss: 0.2393 - accuracy: 0.7654\n",
      "Epoch 9/100\n",
      "133/133 [==============================] - 1s 4ms/step - loss: 0.2342 - accuracy: 0.7704\n",
      "Epoch 10/100\n",
      "133/133 [==============================] - 1s 4ms/step - loss: 0.2344 - accuracy: 0.7711\n",
      "Epoch 11/100\n",
      "133/133 [==============================] - 1s 4ms/step - loss: 0.2387 - accuracy: 0.7633\n",
      "Epoch 12/100\n",
      "133/133 [==============================] - 1s 4ms/step - loss: 0.2381 - accuracy: 0.7614\n",
      "Epoch 13/100\n",
      "133/133 [==============================] - 1s 4ms/step - loss: 0.2372 - accuracy: 0.7643\n",
      "Epoch 14/100\n",
      "133/133 [==============================] - 1s 4ms/step - loss: 0.2369 - accuracy: 0.7636\n",
      "Epoch 15/100\n",
      "133/133 [==============================] - 1s 4ms/step - loss: 0.2340 - accuracy: 0.7680\n",
      "Epoch 16/100\n",
      "133/133 [==============================] - 1s 4ms/step - loss: 0.2326 - accuracy: 0.7699\n",
      "Epoch 17/100\n",
      "133/133 [==============================] - 1s 4ms/step - loss: 0.2335 - accuracy: 0.7702\n",
      "Epoch 18/100\n",
      "133/133 [==============================] - 1s 4ms/step - loss: 0.2306 - accuracy: 0.7714\n",
      "Epoch 19/100\n",
      "133/133 [==============================] - 1s 5ms/step - loss: 0.2323 - accuracy: 0.7721\n",
      "Epoch 20/100\n",
      "133/133 [==============================] - 1s 4ms/step - loss: 0.2314 - accuracy: 0.7688\n",
      "Epoch 21/100\n",
      "133/133 [==============================] - 1s 4ms/step - loss: 0.2272 - accuracy: 0.7763\n",
      "Epoch 22/100\n",
      "133/133 [==============================] - 1s 4ms/step - loss: 0.2302 - accuracy: 0.7707\n",
      "Epoch 23/100\n",
      "133/133 [==============================] - 1s 4ms/step - loss: 0.2278 - accuracy: 0.7733\n",
      "Epoch 24/100\n",
      "133/133 [==============================] - 1s 4ms/step - loss: 0.2348 - accuracy: 0.7669\n",
      "Epoch 25/100\n",
      "133/133 [==============================] - 1s 4ms/step - loss: 0.2323 - accuracy: 0.7690\n",
      "Epoch 26/100\n",
      "133/133 [==============================] - 1s 4ms/step - loss: 0.2277 - accuracy: 0.7740\n",
      "Epoch 27/100\n",
      "133/133 [==============================] - 1s 4ms/step - loss: 0.2299 - accuracy: 0.7733\n",
      "Epoch 28/100\n",
      "133/133 [==============================] - 1s 4ms/step - loss: 0.2288 - accuracy: 0.7714\n",
      "Epoch 29/100\n",
      "133/133 [==============================] - 1s 4ms/step - loss: 0.2306 - accuracy: 0.7725\n",
      "Epoch 30/100\n",
      "133/133 [==============================] - 1s 4ms/step - loss: 0.2332 - accuracy: 0.7676\n",
      "Epoch 31/100\n",
      "133/133 [==============================] - 1s 4ms/step - loss: 0.2292 - accuracy: 0.7723\n",
      "Epoch 32/100\n",
      "133/133 [==============================] - 1s 4ms/step - loss: 0.2291 - accuracy: 0.7728\n",
      "Epoch 33/100\n",
      "133/133 [==============================] - 1s 5ms/step - loss: 0.2278 - accuracy: 0.7730\n",
      "Epoch 34/100\n",
      "133/133 [==============================] - 1s 5ms/step - loss: 0.2307 - accuracy: 0.7716\n",
      "Epoch 35/100\n",
      "133/133 [==============================] - 1s 4ms/step - loss: 0.2312 - accuracy: 0.7690\n",
      "Epoch 36/100\n",
      "133/133 [==============================] - 1s 4ms/step - loss: 0.2308 - accuracy: 0.7683\n",
      "Epoch 37/100\n",
      "133/133 [==============================] - 1s 4ms/step - loss: 0.2302 - accuracy: 0.7699\n",
      "Epoch 38/100\n",
      "133/133 [==============================] - 1s 4ms/step - loss: 0.2291 - accuracy: 0.7714\n",
      "Epoch 39/100\n",
      "133/133 [==============================] - 1s 4ms/step - loss: 0.2276 - accuracy: 0.7723\n",
      "Epoch 40/100\n",
      "133/133 [==============================] - 1s 4ms/step - loss: 0.2290 - accuracy: 0.7709\n",
      "Epoch 41/100\n",
      "133/133 [==============================] - 1s 4ms/step - loss: 0.2221 - accuracy: 0.7804\n",
      "Epoch 42/100\n",
      "133/133 [==============================] - 1s 4ms/step - loss: 0.2262 - accuracy: 0.7744\n",
      "Epoch 43/100\n",
      "133/133 [==============================] - 1s 4ms/step - loss: 0.2247 - accuracy: 0.7775\n",
      "Epoch 44/100\n",
      "133/133 [==============================] - 1s 4ms/step - loss: 0.2294 - accuracy: 0.7744\n",
      "Epoch 45/100\n",
      "133/133 [==============================] - 1s 4ms/step - loss: 0.2290 - accuracy: 0.7704\n",
      "Epoch 46/100\n",
      "133/133 [==============================] - 1s 4ms/step - loss: 0.2324 - accuracy: 0.7690\n",
      "Epoch 47/100\n",
      "133/133 [==============================] - 1s 4ms/step - loss: 0.2281 - accuracy: 0.7721\n",
      "Epoch 48/100\n",
      "133/133 [==============================] - 1s 4ms/step - loss: 0.2280 - accuracy: 0.7740\n",
      "Epoch 49/100\n",
      "133/133 [==============================] - 1s 4ms/step - loss: 0.2262 - accuracy: 0.7744\n",
      "Epoch 50/100\n",
      "133/133 [==============================] - 1s 4ms/step - loss: 0.2287 - accuracy: 0.7735\n",
      "Epoch 51/100\n",
      "133/133 [==============================] - 1s 4ms/step - loss: 0.2308 - accuracy: 0.7697\n",
      "Epoch 52/100\n",
      "133/133 [==============================] - 1s 4ms/step - loss: 0.2305 - accuracy: 0.7680\n",
      "Epoch 53/100\n",
      "133/133 [==============================] - 1s 4ms/step - loss: 0.2237 - accuracy: 0.7778\n",
      "Epoch 54/100\n",
      "133/133 [==============================] - 1s 4ms/step - loss: 0.2301 - accuracy: 0.7716\n",
      "Epoch 55/100\n",
      "133/133 [==============================] - 1s 4ms/step - loss: 0.2292 - accuracy: 0.7707\n",
      "Epoch 56/100\n",
      "133/133 [==============================] - 1s 4ms/step - loss: 0.2269 - accuracy: 0.7744\n",
      "Epoch 57/100\n",
      "133/133 [==============================] - 1s 4ms/step - loss: 0.2301 - accuracy: 0.7699\n",
      "Epoch 58/100\n",
      "133/133 [==============================] - 1s 4ms/step - loss: 0.2304 - accuracy: 0.7690\n",
      "Epoch 59/100\n",
      "133/133 [==============================] - 1s 4ms/step - loss: 0.2244 - accuracy: 0.7766\n",
      "Epoch 60/100\n",
      "133/133 [==============================] - 1s 4ms/step - loss: 0.2281 - accuracy: 0.7733\n",
      "Epoch 61/100\n",
      "133/133 [==============================] - 1s 4ms/step - loss: 0.2310 - accuracy: 0.7692\n",
      "Epoch 62/100\n",
      "133/133 [==============================] - 1s 4ms/step - loss: 0.2231 - accuracy: 0.7792\n",
      "Epoch 63/100\n",
      "133/133 [==============================] - 1s 4ms/step - loss: 0.2258 - accuracy: 0.7751\n",
      "Epoch 64/100\n",
      "133/133 [==============================] - 1s 4ms/step - loss: 0.2291 - accuracy: 0.7709\n",
      "Epoch 65/100\n",
      "133/133 [==============================] - 1s 4ms/step - loss: 0.2282 - accuracy: 0.7733\n",
      "Epoch 66/100\n",
      "133/133 [==============================] - 1s 4ms/step - loss: 0.2291 - accuracy: 0.7718\n",
      "Epoch 67/100\n",
      "133/133 [==============================] - 1s 4ms/step - loss: 0.2263 - accuracy: 0.7735\n",
      "Epoch 68/100\n",
      "133/133 [==============================] - 1s 4ms/step - loss: 0.2311 - accuracy: 0.7697\n",
      "Epoch 69/100\n",
      "133/133 [==============================] - 1s 4ms/step - loss: 0.2249 - accuracy: 0.7775\n",
      "Epoch 70/100\n",
      "133/133 [==============================] - 1s 4ms/step - loss: 0.2261 - accuracy: 0.7733\n",
      "Epoch 71/100\n",
      "133/133 [==============================] - 1s 4ms/step - loss: 0.2285 - accuracy: 0.7718\n",
      "Epoch 72/100\n",
      "133/133 [==============================] - 1s 4ms/step - loss: 0.2278 - accuracy: 0.7725\n",
      "Epoch 73/100\n",
      "133/133 [==============================] - 1s 4ms/step - loss: 0.2324 - accuracy: 0.7669\n",
      "Epoch 74/100\n",
      "133/133 [==============================] - 1s 4ms/step - loss: 0.2281 - accuracy: 0.7714\n",
      "Epoch 75/100\n",
      "133/133 [==============================] - 1s 4ms/step - loss: 0.2274 - accuracy: 0.7744\n",
      "Epoch 76/100\n",
      "133/133 [==============================] - 1s 4ms/step - loss: 0.2304 - accuracy: 0.7707\n",
      "Epoch 77/100\n",
      "133/133 [==============================] - 1s 4ms/step - loss: 0.2287 - accuracy: 0.7707\n",
      "Epoch 78/100\n",
      "133/133 [==============================] - 1s 4ms/step - loss: 0.2284 - accuracy: 0.7723\n",
      "Epoch 79/100\n",
      "133/133 [==============================] - 1s 4ms/step - loss: 0.2235 - accuracy: 0.7768\n",
      "Epoch 80/100\n",
      "133/133 [==============================] - 1s 4ms/step - loss: 0.2287 - accuracy: 0.7680\n",
      "Epoch 81/100\n",
      "133/133 [==============================] - 1s 4ms/step - loss: 0.2267 - accuracy: 0.7751\n",
      "Epoch 82/100\n",
      "133/133 [==============================] - 1s 4ms/step - loss: 0.2256 - accuracy: 0.7749\n",
      "Epoch 83/100\n",
      "133/133 [==============================] - 1s 4ms/step - loss: 0.2235 - accuracy: 0.7773\n",
      "Epoch 84/100\n",
      "133/133 [==============================] - 1s 4ms/step - loss: 0.2265 - accuracy: 0.7730\n",
      "Epoch 85/100\n",
      "133/133 [==============================] - 1s 4ms/step - loss: 0.2271 - accuracy: 0.7737\n",
      "Epoch 86/100\n",
      "133/133 [==============================] - 1s 4ms/step - loss: 0.2279 - accuracy: 0.7737\n",
      "Epoch 87/100\n",
      "133/133 [==============================] - 1s 4ms/step - loss: 0.2322 - accuracy: 0.7673\n",
      "Epoch 88/100\n",
      "133/133 [==============================] - 1s 4ms/step - loss: 0.2289 - accuracy: 0.7716\n",
      "Epoch 89/100\n",
      "133/133 [==============================] - 1s 4ms/step - loss: 0.2292 - accuracy: 0.7692\n",
      "Epoch 90/100\n",
      "133/133 [==============================] - 1s 4ms/step - loss: 0.2227 - accuracy: 0.7796\n",
      "Epoch 91/100\n",
      "133/133 [==============================] - 1s 4ms/step - loss: 0.2273 - accuracy: 0.7737\n",
      "Epoch 92/100\n",
      "133/133 [==============================] - 1s 4ms/step - loss: 0.2269 - accuracy: 0.7721\n",
      "Epoch 93/100\n",
      "133/133 [==============================] - 1s 4ms/step - loss: 0.2234 - accuracy: 0.7766\n",
      "Epoch 94/100\n",
      "133/133 [==============================] - 1s 4ms/step - loss: 0.2251 - accuracy: 0.7749\n",
      "Epoch 95/100\n",
      "133/133 [==============================] - 1s 4ms/step - loss: 0.2267 - accuracy: 0.7730\n",
      "Epoch 96/100\n",
      "133/133 [==============================] - 1s 4ms/step - loss: 0.2280 - accuracy: 0.7709\n",
      "Epoch 97/100\n",
      "133/133 [==============================] - 1s 4ms/step - loss: 0.2257 - accuracy: 0.7737\n",
      "Epoch 98/100\n",
      "133/133 [==============================] - 1s 4ms/step - loss: 0.2251 - accuracy: 0.7766\n",
      "Epoch 99/100\n",
      "133/133 [==============================] - 1s 4ms/step - loss: 0.2252 - accuracy: 0.7742\n",
      "Epoch 100/100\n",
      "133/133 [==============================] - 1s 4ms/step - loss: 0.2301 - accuracy: 0.7688\n",
      "\n",
      "\n",
      "L'accuracy ottenuta è: 0.7687574028968811\n"
     ]
    },
    {
     "data": {
      "image/png": "[encoded data removed]",
      "text/plain": [
       "<Figure size 432x288 with 1 Axes>"
      ]
     },
     "metadata": {
      "needs_background": "light"
     },
     "output_type": "display_data"
    }
   ],
   "source": [
    "history = model.fit(X_train, y_train, epochs=100)\n",
    "plt.plot(history.history['loss'])\n",
    "print(\"\\n\\nL'accuracy ottenuta è: {}\".format(history.history['accuracy'][-1]))"
   ]
  },
  {
   "cell_type": "markdown",
   "metadata": {},
   "source": [
    "Verifico se il mio sistema è in grado di \"leggere\" i dati esterni al training cioè se è in grado di eseguire per bene delle previsioni lato testing.\n",
    "\n",
    "Verifichiamo l'accuracy del mio modello rispetto ai dati di test!"
   ]
  },
  {
   "cell_type": "code",
   "execution_count": 95,
   "metadata": {},
   "outputs": [
    {
     "name": "stdout",
     "output_type": "stream",
     "text": [
      "12/12 [==============================] - 0s 2ms/step - loss: 0.2046 - accuracy: 0.7984\n",
      "\n",
      "Test accuracy: 0.7984386086463928\n"
     ]
    }
   ],
   "source": [
    "results = model.evaluate(\n",
    "    tf.convert_to_tensor(label_X_test, np.float32),\n",
    "    tf.convert_to_tensor(y_test, np.float32), \n",
    "    batch_size=128)\n",
    "\n",
    "#Ti da la test Accuracy:\n",
    "\n",
    "print('\\nTest accuracy:', results[1])\n"
   ]
  },
  {
   "cell_type": "code",
   "execution_count": null,
   "metadata": {},
   "outputs": [],
   "source": []
  }
 ],
 "metadata": {
  "kernelspec": {
   "display_name": "Python 3",
   "language": "python",
   "name": "python3"
  },
  "language_info": {
   "codemirror_mode": {
    "name": "ipython",
    "version": 3
   },
   "file_extension": ".py",
   "mimetype": "text/x-python",
   "name": "python",
   "nbconvert_exporter": "python",
   "pygments_lexer": "ipython3",
   "version": "3.8.5"
  }
 },
 "nbformat": 4,
 "nbformat_minor": 4
}
